{
 "cells": [
  {
   "cell_type": "markdown",
   "metadata": {},
   "source": [
    "# <center>Sprawozdanie z laboratorium numer 1<center>\n"
   ]
  },
  {
   "cell_type": "markdown",
   "metadata": {},
   "source": [
    "**<center>Przebieg ćwiczenia</center>**"
   ]
  },
  {
   "cell_type": "markdown",
   "metadata": {},
   "source": [
    "**Importowanie niezbędnych bibliotek**"
   ]
  },
  {
   "cell_type": "code",
   "execution_count": 11,
   "metadata": {},
   "outputs": [],
   "source": [
    "import main\n",
    "import numpy as np\n",
    "import math"
   ]
  },
  {
   "cell_type": "markdown",
   "metadata": {},
   "source": [
    "**Zadanie 1**     \n",
    "Zaimplementowanie funkcji $cylinder\\_area$ tak by zwracała pole powierzchni walca o promieniu podstawy $r$ i wysokości $h$"
   ]
  },
  {
   "cell_type": "code",
   "execution_count": 12,
   "metadata": {},
   "outputs": [
    {
     "data": {
      "text/plain": [
       "43.54247417875453"
      ]
     },
     "execution_count": 12,
     "metadata": {},
     "output_type": "execute_result"
    }
   ],
   "source": [
    "main.cylinder_area(2.1,1.2)"
   ]
  },
  {
   "cell_type": "markdown",
   "metadata": {},
   "source": [
    "**Zadanie 2.**  \n",
    "Wygeneruj dowolne ciągi arytmetyczny o kroku różnym od jeden i niebędącym liczbą całkowitą"
   ]
  },
  {
   "cell_type": "code",
   "execution_count": 13,
   "metadata": {},
   "outputs": [
    {
     "name": "stdout",
     "output_type": "stream",
     "text": [
      "[0.  0.5 1.  1.5 2.  2.5 3.  3.5 4.  4.5 5.  5.5 6.  6.5]\n",
      "[4.         4.55555556 5.11111111 5.66666667 6.22222222 6.77777778\n",
      " 7.33333333 7.88888889 8.44444444 9.        ]\n"
     ]
    }
   ],
   "source": [
    "print(np.arange(0, 7, 0.5))\n",
    "print(np.linspace(4,9,10))"
   ]
  },
  {
   "cell_type": "markdown",
   "metadata": {},
   "source": [
    "**Zadanie 3.**    \n",
    "Zaimplementuj funkcję $fib$ zwracającą wektor pierszych n elementów *[ciągu Fibonnaciego]"
   ]
  },
  {
   "cell_type": "code",
   "execution_count": 14,
   "metadata": {},
   "outputs": [
    {
     "data": {
      "text/plain": [
       "[array([  1,   1,   2,   3,   5,   8,  13,  21,  34,  55,  89, 144, 233,\n",
       "        377, 610])]"
      ]
     },
     "execution_count": 14,
     "metadata": {},
     "output_type": "execute_result"
    }
   ],
   "source": [
    "main.fib(15)"
   ]
  },
  {
   "cell_type": "markdown",
   "metadata": {},
   "source": [
    "**Zadanie 4.**  \n",
    "Napisz funkję $matrix\\_calculations$ która jako argument przyjmuje dowolną wartość liczbową *a* i tworzy macierz"
   ]
  },
  {
   "cell_type": "code",
   "execution_count": 15,
   "metadata": {},
   "outputs": [
    {
     "name": "stdout",
     "output_type": "stream",
     "text": [
      "(array([[ 0.09375,  0.53125, -0.15625],\n",
      "       [ 0.125  ,  0.375  ,  0.125  ],\n",
      "       [-0.125  ,  0.625  , -0.125  ]]), array([[ 4.,  0., -4.],\n",
      "       [ 1.,  1.,  4.],\n",
      "       [-4.,  1.,  1.]]), -32.0)\n"
     ]
    }
   ],
   "source": [
    "print(main.matrix_calculations(4))"
   ]
  },
  {
   "cell_type": "markdown",
   "metadata": {},
   "source": [
    "**Zadanie 5.**  \n",
    "Stwórz w noataniku macierz i wykonaj kilka operacji"
   ]
  },
  {
   "cell_type": "code",
   "execution_count": 16,
   "metadata": {},
   "outputs": [
    {
     "name": "stdout",
     "output_type": "stream",
     "text": [
      "3\n",
      "1\n",
      "1\n",
      "[-2  1  1  0]\n",
      "[0 1 1 5]\n"
     ]
    }
   ],
   "source": [
    "M = np.array([[3,1,-2,4],[0,1,1,5],[-2,1,1,6],[4,3,0,1]])\n",
    "print(M[0,0])\n",
    "print(M[2,2])\n",
    "print(M[2,1])\n",
    "w1 = M[:,2]\n",
    "w2 = M[1,:]\n",
    "print(w1)\n",
    "print(w2)"
   ]
  },
  {
   "cell_type": "markdown",
   "metadata": {},
   "source": [
    "**Zadanie 6.**   \n",
    "Uzupełnij funkcję $custom\\_matrix$ według wymagań"
   ]
  },
  {
   "cell_type": "code",
   "execution_count": 17,
   "metadata": {},
   "outputs": [
    {
     "name": "stdout",
     "output_type": "stream",
     "text": [
      "[[0. 1. 2. 3. 4.]\n",
      " [1. 1. 2. 3. 4.]\n",
      " [2. 2. 2. 3. 4.]\n",
      " [3. 3. 3. 3. 4.]]\n"
     ]
    }
   ],
   "source": [
    "print(main.custom_matrix(4,5))"
   ]
  },
  {
   "cell_type": "markdown",
   "metadata": {},
   "source": [
    "**Zadanie 7.**    \n",
    "Zapoznać się z metodami mnożenia biblioteki numpy oraz wykonać kilka operacji"
   ]
  },
  {
   "cell_type": "code",
   "execution_count": 18,
   "metadata": {},
   "outputs": [
    {
     "name": "stdout",
     "output_type": "stream",
     "text": [
      "[[ 4]\n",
      " [12]\n",
      " [52]]\n",
      "[[-6]\n",
      " [-3]\n",
      " [ 4]]\n",
      "[[  8   5  -2]\n",
      " [ 24  15  -6]\n",
      " [104  65 -26]]\n",
      "[[  8]\n",
      " [ 15]\n",
      " [-26]]\n"
     ]
    }
   ],
   "source": [
    "v1 =np.array([[1],[3],[13]])\n",
    "v2 =np.array([[8],[5],[-2]])\n",
    "print(4*v1)\n",
    "print(-1*v2 + [[2],[2],[2]])\n",
    "print(np.matmul(v1,np.transpose(v2)))\n",
    "print(np.multiply(v1,v2))"
   ]
  },
  {
   "cell_type": "markdown",
   "metadata": {},
   "source": [
    "**Zadanie 8**     \n",
    "Wykonać operacje na macierzy i wypisać ich wynik"
   ]
  },
  {
   "cell_type": "code",
   "execution_count": 19,
   "metadata": {},
   "outputs": [
    {
     "name": "stdout",
     "output_type": "stream",
     "text": [
      "[[  3 -21   9]\n",
      " [-36   9  12]\n",
      " [ 15  39  -9]]\n",
      "[[  4. -20.  10.]\n",
      " [-35.  10.  13.]\n",
      " [ 16.  40.  -8.]]\n",
      "[[  1 -12   5]\n",
      " [ -7   3  13]\n",
      " [  3   4  -3]]\n",
      "[[19]\n",
      " [49]\n",
      " [ 5]]\n",
      "[[-62 -67  50]]\n"
     ]
    }
   ],
   "source": [
    "M = np.array([[1,-7,3],[-12,3,4],[5,13,-3]])\n",
    "print(3*M)\n",
    "print(3*M + np.ones(3))\n",
    "print(np.transpose(M))\n",
    "print(np.matmul(M,v1))\n",
    "print(np.matmul(np.transpose(v2),M))"
   ]
  },
  {
   "cell_type": "markdown",
   "metadata": {},
   "source": [
    "**<center> Wnioski </center>**  \n",
    "\n",
    "Ćwiczenie miało za zadanie zapoznać studentów z podstawowymi funkcjami pythona, biblioteki numpy oraz operacjami na macierzach. Ćwiczenie to jest bardzo przystępne i mertoryczne. W zadaniach problem stwarza fakt że nie jest sprecyzowane czy wartoś NaN w kodzie ma być zaimplementowana jako $math.none$ czy $None$, jednak analizując testy można to wywnioskować\n"
   ]
  }
 ],
 "metadata": {
  "kernelspec": {
   "display_name": "Python 3",
   "language": "python",
   "name": "python3"
  },
  "language_info": {
   "codemirror_mode": {
    "name": "ipython",
    "version": 3
   },
   "file_extension": ".py",
   "mimetype": "text/x-python",
   "name": "python",
   "nbconvert_exporter": "python",
   "pygments_lexer": "ipython3",
   "version": "3.10.1"
  }
 },
 "nbformat": 4,
 "nbformat_minor": 2
}
